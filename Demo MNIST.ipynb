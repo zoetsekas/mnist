{
 "cells": [
  {
   "cell_type": "markdown",
   "id": "c701c05d",
   "metadata": {},
   "source": [
    "# Introduction\n",
    "This repo showcases how to load a MNIST handwriten dataset and train a tensorflow model using the functional API"
   ]
  },
  {
   "cell_type": "markdown",
   "id": "4bf9c1e7",
   "metadata": {},
   "source": [
    "Define model"
   ]
  },
  {
   "cell_type": "code",
   "execution_count": 3,
   "id": "c76b36e4",
   "metadata": {},
   "outputs": [],
   "source": [
    "from tensorflow.keras.layers import Input\n",
    "import numpy as np\n",
    "from model import MnistModel, load_data\n",
    "\n",
    "inputs = Input(shape=(28, 28))\n",
    "mnist = MnistModel(inputs=inputs)"
   ]
  },
  {
   "cell_type": "markdown",
   "id": "0ad8a46e",
   "metadata": {},
   "source": [
    "Load MNIST data"
   ]
  },
  {
   "cell_type": "code",
   "execution_count": 6,
   "id": "b363c26c",
   "metadata": {},
   "outputs": [],
   "source": [
    "(x_train, y_train), (x_test, y_test) = load_data()"
   ]
  },
  {
   "cell_type": "code",
   "execution_count": 17,
   "id": "83c63f14",
   "metadata": {},
   "outputs": [
    {
     "data": {
      "image/png": "[encoded data removed]",
      "text/plain": [
       "<Figure size 432x288 with 1 Axes>"
      ]
     },
     "metadata": {
      "needs_background": "light"
     },
     "output_type": "display_data"
    }
   ],
   "source": [
    "from matplotlib import pyplot as plt\n",
    "\n",
    "#get a random number from the training set\n",
    "rand = np.random.choice(x_train.shape[0], size=1, replace=False)\n",
    "\n",
    "first_image = x_train[rand]\n",
    "first_image = np.array(first_image, dtype='float')\n",
    "pixels = first_image.reshape((28, 28))\n",
    "plt.imshow(pixels, cmap='gray')\n",
    "plt.show()"
   ]
  },
  {
   "cell_type": "code",
   "execution_count": null,
   "id": "c88d5118",
   "metadata": {},
   "outputs": [],
   "source": [
    "Show multiple images"
   ]
  },
  {
   "cell_type": "code",
   "execution_count": 47,
   "id": "f8cbe215",
   "metadata": {},
   "outputs": [
    {
     "data": {
      "image/png": "[encoded data removed]",
      "text/plain": [
       "<Figure size 540x288 with 10 Axes>"
      ]
     },
     "metadata": {},
     "output_type": "display_data"
    }
   ],
   "source": [
    "num_row = 2\n",
    "num_col = 5\n",
    "\n",
    "# plot images\n",
    "fig, axes = plt.subplots(num_row, num_col, figsize=(1.5*num_col,2*num_row))\n",
    "for i, index in enumerate(np.random.choice(x_train.shape[0], size=10, replace=False)):\n",
    "    ax = axes[i//num_col, i%num_col]\n",
    "    ax.imshow(x_train[i], cmap='gray')\n",
    "    ax.set_title('Label: {}'.format(y_train[i]))\n",
    "    ax.set_xticks([])\n",
    "    # for minor ticks\n",
    "    ax.set_xticks([], minor=True)\n",
    "    ax.set_yticks([])\n",
    "    # for minor ticks\n",
    "    ax.set_yticks([], minor=True)\n",
    "plt.axis('off')\n",
    "plt.tight_layout()\n",
    "plt.show()"
   ]
  },
  {
   "cell_type": "markdown",
   "id": "d8a6993c",
   "metadata": {},
   "source": [
    "Compile, train and evaluate"
   ]
  },
  {
   "cell_type": "code",
   "execution_count": 48,
   "id": "363f4657",
   "metadata": {},
   "outputs": [
    {
     "name": "stdout",
     "output_type": "stream",
     "text": [
      "Epoch 1/30\n",
      "5400/5400 [==============================] - 21s 4ms/step - loss: 0.1718 - accuracy: 0.9656 - val_loss: 0.1715 - val_accuracy: 0.9737\n",
      "Epoch 2/30\n",
      "5400/5400 [==============================] - 20s 4ms/step - loss: 0.1517 - accuracy: 0.9744 - val_loss: 0.1499 - val_accuracy: 0.9780\n",
      "Epoch 3/30\n",
      "5400/5400 [==============================] - 20s 4ms/step - loss: 0.1253 - accuracy: 0.9788 - val_loss: 0.2001 - val_accuracy: 0.9703\n",
      "Epoch 4/30\n",
      "5400/5400 [==============================] - 20s 4ms/step - loss: 0.1183 - accuracy: 0.9811 - val_loss: 0.2719 - val_accuracy: 0.9743\n",
      "Epoch 5/30\n",
      "5400/5400 [==============================] - 20s 4ms/step - loss: 0.1300 - accuracy: 0.9821 - val_loss: 0.2100 - val_accuracy: 0.9733\n",
      "Epoch 6/30\n",
      "5400/5400 [==============================] - 20s 4ms/step - loss: 0.0989 - accuracy: 0.9848 - val_loss: 0.2722 - val_accuracy: 0.9792\n",
      "Epoch 7/30\n",
      "5400/5400 [==============================] - 21s 4ms/step - loss: 0.1013 - accuracy: 0.9860 - val_loss: 0.2524 - val_accuracy: 0.9788\n",
      "Epoch 8/30\n",
      "5400/5400 [==============================] - 22s 4ms/step - loss: 0.0937 - accuracy: 0.9882 - val_loss: 0.2674 - val_accuracy: 0.9773\n",
      "Epoch 9/30\n",
      "5400/5400 [==============================] - 23s 4ms/step - loss: 0.0838 - accuracy: 0.9881 - val_loss: 0.3157 - val_accuracy: 0.9788\n",
      "Epoch 10/30\n",
      "5400/5400 [==============================] - 20s 4ms/step - loss: 0.0789 - accuracy: 0.9892 - val_loss: 0.3121 - val_accuracy: 0.9783\n",
      "Epoch 11/30\n",
      "5400/5400 [==============================] - 20s 4ms/step - loss: 0.0710 - accuracy: 0.9911 - val_loss: 0.3923 - val_accuracy: 0.9750\n",
      "Epoch 12/30\n",
      "5400/5400 [==============================] - 21s 4ms/step - loss: 0.0880 - accuracy: 0.9917 - val_loss: 0.4069 - val_accuracy: 0.9767\n",
      "Epoch 13/30\n",
      "5400/5400 [==============================] - 20s 4ms/step - loss: 0.0657 - accuracy: 0.9918 - val_loss: 0.4446 - val_accuracy: 0.9775\n",
      "Epoch 14/30\n",
      "5400/5400 [==============================] - 20s 4ms/step - loss: 0.0610 - accuracy: 0.9929 - val_loss: 0.4167 - val_accuracy: 0.9775\n",
      "Epoch 15/30\n",
      "5400/5400 [==============================] - 19s 4ms/step - loss: 0.0541 - accuracy: 0.9941 - val_loss: 0.3442 - val_accuracy: 0.9813\n",
      "Epoch 16/30\n",
      "5400/5400 [==============================] - 19s 4ms/step - loss: 0.0468 - accuracy: 0.9943 - val_loss: 0.6235 - val_accuracy: 0.9790\n",
      "Epoch 17/30\n",
      "5400/5400 [==============================] - 20s 4ms/step - loss: 0.0508 - accuracy: 0.9940 - val_loss: 0.5452 - val_accuracy: 0.9802\n",
      "Epoch 18/30\n",
      "5400/5400 [==============================] - 20s 4ms/step - loss: 0.0452 - accuracy: 0.9954 - val_loss: 0.4180 - val_accuracy: 0.9820\n",
      "Epoch 19/30\n",
      "5400/5400 [==============================] - 20s 4ms/step - loss: 0.0374 - accuracy: 0.9952 - val_loss: 0.4936 - val_accuracy: 0.9803\n",
      "Epoch 20/30\n",
      "5400/5400 [==============================] - 21s 4ms/step - loss: 0.0398 - accuracy: 0.9954 - val_loss: 0.5131 - val_accuracy: 0.9803\n",
      "Epoch 21/30\n",
      "5400/5400 [==============================] - 21s 4ms/step - loss: 0.0341 - accuracy: 0.9964 - val_loss: 0.4779 - val_accuracy: 0.9827\n",
      "Epoch 22/30\n",
      "5400/5400 [==============================] - 21s 4ms/step - loss: 0.0294 - accuracy: 0.9968 - val_loss: 0.4530 - val_accuracy: 0.9805\n",
      "Epoch 23/30\n",
      "5400/5400 [==============================] - 19s 4ms/step - loss: 0.0319 - accuracy: 0.9964 - val_loss: 0.4643 - val_accuracy: 0.9830\n",
      "Epoch 24/30\n",
      "5400/5400 [==============================] - 18s 3ms/step - loss: 0.0223 - accuracy: 0.9973 - val_loss: 0.4883 - val_accuracy: 0.9807\n",
      "Epoch 25/30\n",
      "5400/5400 [==============================] - 18s 3ms/step - loss: 0.0199 - accuracy: 0.9976 - val_loss: 0.5175 - val_accuracy: 0.9823\n",
      "Epoch 26/30\n",
      "5400/5400 [==============================] - 20s 4ms/step - loss: 0.0239 - accuracy: 0.9972 - val_loss: 0.5516 - val_accuracy: 0.9820\n",
      "Epoch 27/30\n",
      "5400/5400 [==============================] - 25s 5ms/step - loss: 0.0196 - accuracy: 0.9974 - val_loss: 0.5242 - val_accuracy: 0.9828\n",
      "Epoch 28/30\n",
      "5400/5400 [==============================] - 27s 5ms/step - loss: 0.0193 - accuracy: 0.9978 - val_loss: 0.5656 - val_accuracy: 0.9813\n",
      "Epoch 29/30\n",
      "5400/5400 [==============================] - 26s 5ms/step - loss: 0.0141 - accuracy: 0.9982 - val_loss: 0.5243 - val_accuracy: 0.9817\n",
      "Epoch 30/30\n",
      "5400/5400 [==============================] - 24s 4ms/step - loss: 0.0175 - accuracy: 0.9981 - val_loss: 0.5225 - val_accuracy: 0.9810\n",
      "Model: \"mnist_model\"\n",
      "_________________________________________________________________\n",
      "Layer (type)                 Output Shape              Param #   \n",
      "=================================================================\n",
      "flatten (Flatten)            multiple                  0         \n",
      "_________________________________________________________________\n",
      "dense (Dense)                multiple                  615440    \n",
      "_________________________________________________________________\n",
      "dense_1 (Dense)              multiple                  100480    \n",
      "_________________________________________________________________\n",
      "predictions (Dense)          multiple                  1290      \n",
      "=================================================================\n",
      "Total params: 717,210\n",
      "Trainable params: 717,210\n",
      "Non-trainable params: 0\n",
      "_________________________________________________________________\n",
      "313/313 [==============================] - 1s 2ms/step - loss: 0.5773 - accuracy: 0.9797: 0s - loss: 0.8245 - \n",
      "[0.5773187875747681, 0.9797000288963318]\n"
     ]
    }
   ],
   "source": [
    "mnist.my_compile()\n",
    "mnist.my_fit(x=x_train, y=y_train, epochs=30)\n",
    "mnist.summary()\n",
    "acc = mnist.evaluate(x=x_test, y=y_test)\n",
    "print(acc)"
   ]
  },
  {
   "cell_type": "markdown",
   "id": "51d38a4c",
   "metadata": {},
   "source": [
    "Get a random image from x_test and predict what number it is"
   ]
  },
  {
   "cell_type": "code",
   "execution_count": 49,
   "id": "f9e69d2e",
   "metadata": {},
   "outputs": [
    {
     "data": {
      "image/png": "[encoded data removed]",
      "text/plain": [
       "<Figure size 432x288 with 1 Axes>"
      ]
     },
     "metadata": {
      "needs_background": "light"
     },
     "output_type": "display_data"
    },
    {
     "name": "stdout",
     "output_type": "stream",
     "text": [
      "prediction: 5\n"
     ]
    }
   ],
   "source": [
    "rand = np.random.choice(x_test.shape[0], size=1, replace=False)\n",
    "x_pred = x_test[rand]\n",
    "\n",
    "first_image = x_pred\n",
    "first_image = np.array(first_image, dtype='float')\n",
    "pixels = first_image.reshape((28, 28))\n",
    "plt.imshow(pixels, cmap='gray')\n",
    "plt.show()\n",
    "\n",
    "y_hat = mnist.predict(x_pred)\n",
    "print('prediction:',np.argmax(y_hat))"
   ]
  },
  {
   "cell_type": "code",
   "execution_count": null,
   "id": "bd618a7d",
   "metadata": {},
   "outputs": [],
   "source": []
  }
 ],
 "metadata": {
  "kernelspec": {
   "display_name": "Python 3",
   "language": "python",
   "name": "python3"
  },
  "language_info": {
   "codemirror_mode": {
    "name": "ipython",
    "version": 3
   },
   "file_extension": ".py",
   "mimetype": "text/x-python",
   "name": "python",
   "nbconvert_exporter": "python",
   "pygments_lexer": "ipython3",
   "version": "3.8.3"
  }
 },
 "nbformat": 4,
 "nbformat_minor": 5
}
